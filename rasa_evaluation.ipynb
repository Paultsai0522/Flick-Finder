{
 "cells": [
  {
   "cell_type": "code",
   "execution_count": 1,
   "metadata": {},
   "outputs": [],
   "source": [
    "test_data = [\n",
    "    # get_recommendation intent\n",
    "    {\"text\": \"Can you recommend a movie similar to Toy Story?\", \"intent\": \"get_recommendation\", \"entities\": {\"movie_title\": \"Toy Story\"}},\n",
    "    {\"text\": \"Suggest some movies like The Matrix.\", \"intent\": \"get_recommendation\", \"entities\": {\"movie_title\": \"The Matrix\"}},\n",
    "    {\"text\": \"Recommend a movie like Inception.\", \"intent\": \"get_recommendation\", \"entities\": {\"movie_title\": \"Inception\"}},\n",
    "    {\"text\": \"I loved Titanic, what should I watch next?\", \"intent\": \"get_recommendation\", \"entities\": {\"movie_title\": \"Titanic\"}},\n",
    "    {\"text\": \"What's a good movie like Avatar?\", \"intent\": \"get_recommendation\", \"entities\": {\"movie_title\": \"Avatar\"}},\n",
    "    {\"text\": \"Give me some recommendations similar to Shrek.\", \"intent\": \"get_recommendation\", \"entities\": {\"movie_title\": \"Shrek\"}},\n",
    "    {\"text\": \"If I enjoyed Finding Nemo, what else might I like?\", \"intent\": \"get_recommendation\", \"entities\": {\"movie_title\": \"Finding Nemo\"}},\n",
    "    {\"text\": \"What are some movies similar to Jurassic Park?\", \"intent\": \"get_recommendation\", \"entities\": {\"movie_title\": \"Jurassic Park\"}},\n",
    "    {\"text\": \"Can you suggest movies like The Lion King?\", \"intent\": \"get_recommendation\", \"entities\": {\"movie_title\": \"The Lion King\"}},\n",
    "    {\"text\": \"Recommend me films similar to The Dark Knight.\", \"intent\": \"get_recommendation\", \"entities\": {\"movie_title\": \"The Dark Knight\"}},\n",
    "    \n",
    "    # search_by_genre intent\n",
    "    {\"text\": \"Show me some action movies.\", \"intent\": \"search_by_genre\", \"entities\": {\"genre\": \"action\"}},\n",
    "    {\"text\": \"I want to watch a comedy movie.\", \"intent\": \"search_by_genre\", \"entities\": {\"genre\": \"comedy\"}},\n",
    "    {\"text\": \"Do you have any recommendations for drama movies?\", \"intent\": \"search_by_genre\", \"entities\": {\"genre\": \"drama\"}},\n",
    "    {\"text\": \"Can you suggest any good horror movies?\", \"intent\": \"search_by_genre\", \"entities\": {\"genre\": \"horror\"}},\n",
    "    {\"text\": \"I'm in the mood for a romantic film.\", \"intent\": \"search_by_genre\", \"entities\": {\"genre\": \"romantic\"}},\n",
    "    {\"text\": \"Recommend some sci-fi movies.\", \"intent\": \"search_by_genre\", \"entities\": {\"genre\": \"sci-fi\"}},\n",
    "    {\"text\": \"What are some popular thriller movies?\", \"intent\": \"search_by_genre\", \"entities\": {\"genre\": \"thriller\"}},\n",
    "    {\"text\": \"Show me some great animated films.\", \"intent\": \"search_by_genre\", \"entities\": {\"genre\": \"animated\"}},\n",
    "    {\"text\": \"I'd like to watch a documentary.\", \"intent\": \"search_by_genre\", \"entities\": {\"genre\": \"documentary\"}},\n",
    "    {\"text\": \"Suggest some good fantasy movies.\", \"intent\": \"search_by_genre\", \"entities\": {\"genre\": \"fantasy\"}},\n",
    "    \n",
    "    # get_movie_details intent\n",
    "    {\"text\": \"Tell me about the movie Inception.\", \"intent\": \"get_movie_details\", \"entities\": {\"movie_title\": \"Inception\"}},\n",
    "    {\"text\": \"I want information about Gladiator.\", \"intent\": \"get_movie_details\", \"entities\": {\"movie_title\": \"Gladiator\"}},\n",
    "    {\"text\": \"Details about The Godfather, please.\", \"intent\": \"get_movie_details\", \"entities\": {\"movie_title\": \"The Godfather\"}},\n",
    "    {\"text\": \"Can you give me the plot of The Matrix?\", \"intent\": \"get_movie_details\", \"entities\": {\"movie_title\": \"The Matrix\"}},\n",
    "    {\"text\": \"What is Pulp Fiction about?\", \"intent\": \"get_movie_details\", \"entities\": {\"movie_title\": \"Pulp Fiction\"}},\n",
    "    {\"text\": \"Provide details on The Shawshank Redemption.\", \"intent\": \"get_movie_details\", \"entities\": {\"movie_title\": \"The Shawshank Redemption\"}},\n",
    "    {\"text\": \"I'd like to know more about Forrest Gump.\", \"intent\": \"get_movie_details\", \"entities\": {\"movie_title\": \"Forrest Gump\"}},\n",
    "    {\"text\": \"What's the storyline of Fight Club?\", \"intent\": \"get_movie_details\", \"entities\": {\"movie_title\": \"Fight Club\"}},\n",
    "    {\"text\": \"Tell me the details of The Lord of the Rings.\", \"intent\": \"get_movie_details\", \"entities\": {\"movie_title\": \"The Lord of the Rings\"}},\n",
    "    {\"text\": \"Can you summarize The Avengers?\", \"intent\": \"get_movie_details\", \"entities\": {\"movie_title\": \"The Avengers\"}}\n",
    "]\n"
   ]
  },
  {
   "cell_type": "code",
   "execution_count": 5,
   "metadata": {},
   "outputs": [
    {
     "name": "stdout",
     "output_type": "stream",
     "text": [
      "Collecting seaborn\n",
      "  Using cached seaborn-0.13.2-py3-none-any.whl.metadata (5.4 kB)\n",
      "Requirement already satisfied: numpy!=1.24.0,>=1.20 in c:\\users\\蔡承軒\\appdata\\local\\packages\\pythonsoftwarefoundation.python.3.11_qbz5n2kfra8p0\\localcache\\local-packages\\python311\\site-packages (from seaborn) (1.24.3)\n",
      "Requirement already satisfied: pandas>=1.2 in c:\\users\\蔡承軒\\appdata\\local\\packages\\pythonsoftwarefoundation.python.3.11_qbz5n2kfra8p0\\localcache\\local-packages\\python311\\site-packages (from seaborn) (2.0.0)\n",
      "Requirement already satisfied: matplotlib!=3.6.1,>=3.4 in c:\\users\\蔡承軒\\appdata\\local\\packages\\pythonsoftwarefoundation.python.3.11_qbz5n2kfra8p0\\localcache\\local-packages\\python311\\site-packages (from seaborn) (3.8.4)\n",
      "Requirement already satisfied: contourpy>=1.0.1 in c:\\users\\蔡承軒\\appdata\\local\\packages\\pythonsoftwarefoundation.python.3.11_qbz5n2kfra8p0\\localcache\\local-packages\\python311\\site-packages (from matplotlib!=3.6.1,>=3.4->seaborn) (1.2.0)\n",
      "Requirement already satisfied: cycler>=0.10 in c:\\users\\蔡承軒\\appdata\\local\\packages\\pythonsoftwarefoundation.python.3.11_qbz5n2kfra8p0\\localcache\\local-packages\\python311\\site-packages (from matplotlib!=3.6.1,>=3.4->seaborn) (0.12.1)\n",
      "Requirement already satisfied: fonttools>=4.22.0 in c:\\users\\蔡承軒\\appdata\\local\\packages\\pythonsoftwarefoundation.python.3.11_qbz5n2kfra8p0\\localcache\\local-packages\\python311\\site-packages (from matplotlib!=3.6.1,>=3.4->seaborn) (4.50.0)\n",
      "Requirement already satisfied: kiwisolver>=1.3.1 in c:\\users\\蔡承軒\\appdata\\local\\packages\\pythonsoftwarefoundation.python.3.11_qbz5n2kfra8p0\\localcache\\local-packages\\python311\\site-packages (from matplotlib!=3.6.1,>=3.4->seaborn) (1.4.5)\n",
      "Requirement already satisfied: packaging>=20.0 in c:\\users\\蔡承軒\\appdata\\local\\packages\\pythonsoftwarefoundation.python.3.11_qbz5n2kfra8p0\\localcache\\local-packages\\python311\\site-packages (from matplotlib!=3.6.1,>=3.4->seaborn) (24.0)\n",
      "Requirement already satisfied: pillow>=8 in c:\\users\\蔡承軒\\appdata\\local\\packages\\pythonsoftwarefoundation.python.3.11_qbz5n2kfra8p0\\localcache\\local-packages\\python311\\site-packages (from matplotlib!=3.6.1,>=3.4->seaborn) (10.2.0)\n",
      "Requirement already satisfied: pyparsing>=2.3.1 in c:\\users\\蔡承軒\\appdata\\local\\packages\\pythonsoftwarefoundation.python.3.11_qbz5n2kfra8p0\\localcache\\local-packages\\python311\\site-packages (from matplotlib!=3.6.1,>=3.4->seaborn) (3.1.2)\n",
      "Requirement already satisfied: python-dateutil>=2.7 in c:\\users\\蔡承軒\\appdata\\local\\packages\\pythonsoftwarefoundation.python.3.11_qbz5n2kfra8p0\\localcache\\local-packages\\python311\\site-packages (from matplotlib!=3.6.1,>=3.4->seaborn) (2.8.2)\n",
      "Requirement already satisfied: pytz>=2020.1 in c:\\users\\蔡承軒\\appdata\\local\\packages\\pythonsoftwarefoundation.python.3.11_qbz5n2kfra8p0\\localcache\\local-packages\\python311\\site-packages (from pandas>=1.2->seaborn) (2023.3)\n",
      "Requirement already satisfied: tzdata>=2022.1 in c:\\users\\蔡承軒\\appdata\\local\\packages\\pythonsoftwarefoundation.python.3.11_qbz5n2kfra8p0\\localcache\\local-packages\\python311\\site-packages (from pandas>=1.2->seaborn) (2023.3)\n",
      "Requirement already satisfied: six>=1.5 in c:\\users\\蔡承軒\\appdata\\local\\packages\\pythonsoftwarefoundation.python.3.11_qbz5n2kfra8p0\\localcache\\local-packages\\python311\\site-packages (from python-dateutil>=2.7->matplotlib!=3.6.1,>=3.4->seaborn) (1.16.0)\n",
      "Using cached seaborn-0.13.2-py3-none-any.whl (294 kB)\n",
      "Installing collected packages: seaborn\n",
      "Successfully installed seaborn-0.13.2\n"
     ]
    }
   ],
   "source": [
    "!pip install seaborn"
   ]
  },
  {
   "cell_type": "code",
   "execution_count": 6,
   "metadata": {},
   "outputs": [
    {
     "name": "stdout",
     "output_type": "stream",
     "text": [
      "Classification Report for Intent Recognition:\n",
      "                    precision    recall  f1-score   support\n",
      "\n",
      " get_movie_details       1.00      1.00      1.00         1\n",
      "get_recommendation       1.00      1.00      1.00         1\n",
      "   search_by_genre       1.00      1.00      1.00         1\n",
      "\n",
      "          accuracy                           1.00         3\n",
      "         macro avg       1.00      1.00      1.00         3\n",
      "      weighted avg       1.00      1.00      1.00         3\n",
      "\n"
     ]
    },
    {
     "data": {
      "image/png": "[encoded data removed]",
      "text/plain": [
       "<Figure size 640x480 with 2 Axes>"
      ]
     },
     "metadata": {},
     "output_type": "display_data"
    },
    {
     "name": "stdout",
     "output_type": "stream",
     "text": [
      "Entity Extraction Results:\n",
      "True: {'movie_title': 'Toy Story'} | Predicted: {'movie_title': 'Toy Story'}\n",
      "True: {'genre': 'action'} | Predicted: {'genre': 'action'}\n",
      "True: {'movie_title': 'Inception'} | Predicted: {'movie_title': 'Inception'}\n"
     ]
    }
   ],
   "source": [
    "import requests\n",
    "from sklearn.metrics import classification_report, confusion_matrix\n",
    "import seaborn as sns\n",
    "import matplotlib.pyplot as plt\n",
    "\n",
    "# Function to evaluate intent recognition\n",
    "def evaluate_intent_recognition(test_data, rasa_server_url):\n",
    "    true_intents = []\n",
    "    predicted_intents = []\n",
    "\n",
    "    for message in test_data:\n",
    "        response = requests.post(f\"{rasa_server_url}/model/parse\", json={\"text\": message[\"text\"]})\n",
    "        response_data = response.json()\n",
    "        \n",
    "        true_intents.append(message[\"intent\"])\n",
    "        predicted_intents.append(response_data[\"intent\"][\"name\"])\n",
    "\n",
    "    print(\"Classification Report for Intent Recognition:\")\n",
    "    print(classification_report(true_intents, predicted_intents))\n",
    "\n",
    "    cm = confusion_matrix(true_intents, predicted_intents)\n",
    "    sns.heatmap(cm, annot=True, fmt='d', cmap='Blues')\n",
    "    plt.xlabel('Predicted')\n",
    "    plt.ylabel('True')\n",
    "    plt.show()\n",
    "\n",
    "# Function to evaluate entity extraction\n",
    "def evaluate_entity_extraction(test_data, rasa_server_url):\n",
    "    true_entities = []\n",
    "    predicted_entities = []\n",
    "\n",
    "    for message in test_data:\n",
    "        response = requests.post(f\"{rasa_server_url}/model/parse\", json={\"text\": message[\"text\"]})\n",
    "        response_data = response.json()\n",
    "        \n",
    "        true_entities.append(message[\"entities\"])\n",
    "        predicted_entities.append({entity[\"entity\"]: entity[\"value\"] for entity in response_data[\"entities\"]})\n",
    "\n",
    "    print(\"Entity Extraction Results:\")\n",
    "    for true, pred in zip(true_entities, predicted_entities):\n",
    "        print(f\"True: {true} | Predicted: {pred}\")\n",
    "\n",
    "# Rasa server URL\n",
    "rasa_server_url = \"http://localhost:5005\"\n",
    "\n",
    "# Evaluate intent recognition\n",
    "evaluate_intent_recognition(test_data, rasa_server_url)\n",
    "\n",
    "# Evaluate entity extraction\n",
    "evaluate_entity_extraction(test_data, rasa_server_url)\n"
   ]
  }
 ],
 "metadata": {
  "kernelspec": {
   "display_name": "Python 3",
   "language": "python",
   "name": "python3"
  },
  "language_info": {
   "codemirror_mode": {
    "name": "ipython",
    "version": 3
   },
   "file_extension": ".py",
   "mimetype": "text/x-python",
   "name": "python",
   "nbconvert_exporter": "python",
   "pygments_lexer": "ipython3",
   "version": "3.11.9"
  }
 },
 "nbformat": 4,
 "nbformat_minor": 2
}
