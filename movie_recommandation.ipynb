{
 "cells": [
  {
   "cell_type": "code",
   "execution_count": null,
   "metadata": {},
   "outputs": [],
   "source": [
    "import pandas as pd\n",
    "import numpy as np\n",
    "from sklearn.metrics.pairwise import cosine_similarity\n",
    "from transformers import AutoTokenizer, AutoModel\n",
    "import torch\n",
    "from tqdm import tqdm"
   ]
  },
  {
   "cell_type": "code",
   "execution_count": null,
   "metadata": {},
   "outputs": [],
   "source": [
    "# Load the dataset with low_memory=False to suppress DtypeWarning\n",
    "file_path = './data/movies_metadata.csv'\n",
    "movies_metadata = pd.read_csv(file_path, low_memory=False)\n",
    "\n",
    "# Data Cleaning and Feature Extraction\n",
    "\n",
    "# Drop rows with missing 'overview' or 'title'\n",
    "movies_metadata_cleaned = movies_metadata.dropna(subset=['overview', 'title'])"
   ]
  },
  {
   "cell_type": "code",
   "execution_count": null,
   "metadata": {},
   "outputs": [],
   "source": [
    "# Convert 'genres' from string representation of lists to actual lists\n",
    "import ast\n",
    "\n",
    "def parse_genres(genres_str):\n",
    "    try:\n",
    "        genres_list = ast.literal_eval(genres_str)\n",
    "        return [genre['name'] for genre in genres_list]\n",
    "    except:\n",
    "        return []\n",
    "\n",
    "# Use .loc to avoid SettingWithCopyWarning\n",
    "movies_metadata_cleaned.loc[:, 'genres'] = movies_metadata_cleaned['genres'].apply(parse_genres)"
   ]
  },
  {
   "cell_type": "code",
   "execution_count": null,
   "metadata": {},
   "outputs": [],
   "source": [
    "# Initialize tokenizer and model\n",
    "tokenizer = AutoTokenizer.from_pretrained('bert-base-uncased')\n",
    "model = AutoModel.from_pretrained('bert-base-uncased')\n",
    "\n",
    "def get_embeddings(text):\n",
    "    inputs = tokenizer(text, return_tensors='pt', truncation=True, padding=True, max_length=512)\n",
    "    outputs = model(**inputs)\n",
    "    embeddings = outputs.last_hidden_state.mean(dim=1).detach().numpy()\n",
    "    return embeddings.flatten()  # Flatten to 2D array\n",
    "\n",
    "# Generate embeddings for all movie overviews with progress bar\n",
    "embeddings = []\n",
    "for overview in tqdm(movies_metadata_cleaned['overview'], desc=\"Generating embeddings\"):\n",
    "    embeddings.append(get_embeddings(overview))\n",
    "\n",
    "movies_metadata_cleaned['embeddings'] = embeddings"
   ]
  },
  {
   "cell_type": "code",
   "execution_count": null,
   "metadata": {},
   "outputs": [],
   "source": [
    "import pickle\n",
    "\n",
    "# Save embeddings to a file\n",
    "with open('movie_embeddings.pkl', 'wb') as f:\n",
    "    pickle.dump(movies_metadata_cleaned, f)\n",
    "\n",
    "print(\"Embeddings saved successfully.\")"
   ]
  },
  {
   "cell_type": "code",
   "execution_count": null,
   "metadata": {},
   "outputs": [],
   "source": [
    "# Calculate Similarities and Recommend Movies\n",
    "def recommend_movies(movie_title, num_recommendations=5):\n",
    "    # Get the embeddings for the given movie title\n",
    "    movie_idx = movies_metadata_cleaned[movies_metadata_cleaned['title'].str.lower() == movie_title.lower()].index[0]\n",
    "    movie_embedding = movies_metadata_cleaned.loc[movie_idx, 'embeddings']\n",
    "    \n",
    "    # Calculate cosine similarity between the given movie and all others\n",
    "    similarities = cosine_similarity([movie_embedding], list(movies_metadata_cleaned['embeddings']))\n",
    "    \n",
    "    # Get indices of the most similar movies\n",
    "    similar_indices = similarities.argsort()[0][-num_recommendations-1:-1][::-1]\n",
    "    \n",
    "    # Return the titles of the recommended movies\n",
    "    return movies_metadata_cleaned.iloc[similar_indices]['title'].tolist()"
   ]
  },
  {
   "cell_type": "code",
   "execution_count": null,
   "metadata": {},
   "outputs": [],
   "source": [
    "# Example usage\n",
    "recommended_movies = recommend_movies('Toy Story')\n",
    "print(recommended_movies)\n"
   ]
  },
  {
   "cell_type": "markdown",
   "metadata": {},
   "source": [
    "### Pregenerated Embeddings"
   ]
  },
  {
   "cell_type": "code",
   "execution_count": null,
   "metadata": {},
   "outputs": [],
   "source": [
    "import pandas as pd\n",
    "import pickle\n",
    "\n",
    "# Load the embeddings from the file\n",
    "with open('movie_embeddings.pkl', 'rb') as f:\n",
    "    movies_metadata_cleaned = pickle.load(f)\n",
    "\n",
    "# Calculate Similarities and Recommend Movies\n",
    "def recommend_movies(movie_title, num_recommendations=5):\n",
    "    # Get the embeddings for the given movie title\n",
    "    movie_idx = movies_metadata_cleaned[movies_metadata_cleaned['title'].str.lower() == movie_title.lower()].index[0]\n",
    "    movie_embedding = movies_metadata_cleaned.loc[movie_idx, 'embeddings']\n",
    "    \n",
    "    # Calculate cosine similarity between the given movie and all others\n",
    "    similarities = cosine_similarity([movie_embedding], list(movies_metadata_cleaned['embeddings']))\n",
    "    \n",
    "    # Get indices of the most similar movies\n",
    "    similar_indices = similarities.argsort()[0][-num_recommendations-1:-1][::-1]\n",
    "    \n",
    "    # Return the titles of the recommended movies\n",
    "    return movies_metadata_cleaned.iloc[similar_indices]['title'].tolist()\n",
    "\n"
   ]
  },
  {
   "cell_type": "code",
   "execution_count": null,
   "metadata": {},
   "outputs": [],
   "source": [
    "# Example usage\n",
    "recommended_movies = recommend_movies('Toy Story')\n",
    "print(recommended_movies)"
   ]
  },
  {
   "cell_type": "markdown",
   "metadata": {},
   "source": [
    "### Approach Explaination"
   ]
  },
  {
   "cell_type": "code",
   "execution_count": null,
   "metadata": {},
   "outputs": [],
   "source": [
    "import pandas as pd\n",
    "import pickle\n",
    "\n",
    "# Load the embeddings from the file\n",
    "file_path = 'movie_embeddings.pkl'  # Adjust the path to your local file\n",
    "with open(file_path, 'rb') as f:\n",
    "    movies_metadata_cleaned = pickle.load(f)\n",
    "\n",
    "# Extract overviews and embeddings for \"Toy Story\" and \"Toy Story 2\"\n",
    "toy_story_1 = movies_metadata_cleaned[movies_metadata_cleaned['title'].str.lower() == 'toy story']\n",
    "toy_story_2 = movies_metadata_cleaned[movies_metadata_cleaned['title'].str.lower() == 'toy story 2']\n",
    "\n",
    "toy_story_1_overview = toy_story_1['overview'].values[0]\n",
    "toy_story_2_overview = toy_story_2['overview'].values[0]\n",
    "\n",
    "toy_story_1_embedding = toy_story_1['embeddings'].values[0]\n",
    "toy_story_2_embedding = toy_story_2['embeddings'].values[0]\n",
    "\n",
    "print(\"Toy Story Overview:\", toy_story_1_overview)\n",
    "print(\"Toy Story Embedding:\", toy_story_1_embedding)\n",
    "print(\"Toy Story 2 Overview:\", toy_story_2_overview)\n",
    "print(\"Toy Story 2 Embedding:\", toy_story_2_embedding)\n"
   ]
  },
  {
   "cell_type": "code",
   "execution_count": null,
   "metadata": {},
   "outputs": [],
   "source": [
    "import pandas as pd\n",
    "import pickle\n",
    "from sklearn.metrics.pairwise import cosine_similarity\n",
    "\n",
    "# Load the embeddings from the file\n",
    "file_path = 'movie_embeddings.pkl'  # Adjust the path to your local file\n",
    "with open(file_path, 'rb') as f:\n",
    "    movies_metadata_cleaned = pickle.load(f)\n",
    "\n",
    "# Function to recommend movies and print similarities\n",
    "def recommend_movies_with_similarity(movie_title, num_recommendations=5):\n",
    "    # Get the embeddings for the given movie title\n",
    "    movie_idx = movies_metadata_cleaned[movies_metadata_cleaned['title'].str.lower() == movie_title.lower()].index[0]\n",
    "    movie_embedding = movies_metadata_cleaned.loc[movie_idx, 'embeddings']\n",
    "    \n",
    "    # Calculate cosine similarity between the given movie and all others\n",
    "    similarities = cosine_similarity([movie_embedding], list(movies_metadata_cleaned['embeddings']))\n",
    "    \n",
    "    # Get indices of the most similar movies\n",
    "    similar_indices = similarities.argsort()[0][-num_recommendations-1:-1][::-1]\n",
    "    \n",
    "    # Get the similarity scores of the most similar movies\n",
    "    similar_movies = movies_metadata_cleaned.iloc[similar_indices]\n",
    "    similarity_scores = similarities[0][similar_indices]\n",
    "    \n",
    "    # Return the titles and similarity scores of the recommended movies\n",
    "    return list(zip(similar_movies['title'], similarity_scores))\n",
    "\n",
    "# Example usage\n",
    "recommended_movies = recommend_movies_with_similarity('Toy Story')\n",
    "for title, score in recommended_movies:\n",
    "    print(f\"{title}, Similarity: {score:.4f}\")\n"
   ]
  },
  {
   "cell_type": "code",
   "execution_count": null,
   "metadata": {},
   "outputs": [],
   "source": [
    "def genre_overlap(genres1, genres2):\n",
    "    if not genres1 or not genres2:\n",
    "        return 0\n",
    "    set1, set2 = set(genres1), set(genres2)\n",
    "    return len(set1.intersection(set2)) / len(set1.union(set2))\n",
    "\n",
    "# Evaluate recommendations and print overlap percentages\n",
    "def evaluate_recommendations_content_based(recommendation_func, test_cases, metadata, k=5):\n",
    "    results = []\n",
    "    \n",
    "    for movie_title in test_cases:\n",
    "        try:\n",
    "            recommended_movies = recommendation_func(movie_title, k)\n",
    "            original_genres = set(metadata[metadata['title'].str.lower() == movie_title.lower()]['genres'].values[0])\n",
    "            print(f\"Evaluating recommendations for '{movie_title}':\")\n",
    "            for rec_movie in recommended_movies:\n",
    "                rec_genres = set(metadata[metadata['title'] == rec_movie]['genres'].values[0])\n",
    "                genre_overlap_score = genre_overlap(original_genres, rec_genres)\n",
    "                print(f\"- Recommended Movie: '{rec_movie}' | Genre Overlap: {genre_overlap_score:.2%}\")\n",
    "                results.append(genre_overlap_score)\n",
    "            print()  # Print a newline for better readability\n",
    "        except IndexError:\n",
    "            continue\n",
    "    \n",
    "    return np.mean(results)\n",
    "\n",
    "# Define test cases\n",
    "test_cases = ['Toy Story', 'The Matrix', 'Inception']\n",
    "\n",
    "# Evaluate the recommendations\n",
    "average_genre_overlap = evaluate_recommendations_content_based(recommend_movies, test_cases, movies_metadata_cleaned, k=5)\n",
    "print(f\"Average Genre Overlap: {average_genre_overlap:.2%}\")"
   ]
  },
  {
   "cell_type": "code",
   "execution_count": null,
   "metadata": {},
   "outputs": [],
   "source": [
    "import random\n",
    "\n",
    "test_cases = movies_metadata_cleaned['title'].tolist()[:20]\n",
    "\n",
    "# Evaluate the recommendations\n",
    "average_genre_overlap = evaluate_recommendations_content_based(recommend_movies, test_cases, movies_metadata_cleaned, k=5)\n",
    "print(f\"Average Genre Overlap: {average_genre_overlap:.2%}\")"
   ]
  }
 ],
 "metadata": {
  "kernelspec": {
   "display_name": "Python 3",
   "language": "python",
   "name": "python3"
  },
  "language_info": {
   "codemirror_mode": {
    "name": "ipython",
    "version": 3
   },
   "file_extension": ".py",
   "mimetype": "text/x-python",
   "name": "python",
   "nbconvert_exporter": "python",
   "pygments_lexer": "ipython3",
   "version": "3.11.9"
  }
 },
 "nbformat": 4,
 "nbformat_minor": 2
}
