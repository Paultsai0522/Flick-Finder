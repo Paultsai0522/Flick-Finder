{
  "cells": [
    {
      "cell_type": "code",
      "execution_count": null,
      "metadata": {
        "colab": {
          "base_uri": "https://localhost:8080/"
        },
        "id": "UFPkf44_u8fZ",
        "outputId": "57438b10-bdcb-4319-e03f-899804c9e7cd"
      },
      "outputs": [],
      "source": [
        "from google.colab import drive\n",
        "drive.mount('/content/drive')\n"
      ]
    },
    {
      "cell_type": "code",
      "execution_count": null,
      "metadata": {
        "colab": {
          "base_uri": "https://localhost:8080/"
        },
        "id": "vLAPB9-6uzOa",
        "outputId": "5df8154e-7462-48e2-9c9a-2f63486c224d"
      },
      "outputs": [],
      "source": [
        "!pip install rasa\n",
        "!pip install nest-asyncio\n",
        "!pip install pyngrok\n",
        "!pip install transformers torch scikit-learn pandas numpy"
      ]
    },
    {
      "cell_type": "code",
      "execution_count": null,
      "metadata": {
        "id": "TH-u48Jru4sA"
      },
      "outputs": [],
      "source": [
        "import nest_asyncio\n",
        "from pyngrok import ngrok\n",
        "import subprocess\n",
        "import os\n",
        "import shutil\n",
        "\n",
        "nest_asyncio.apply()\n"
      ]
    },
    {
      "cell_type": "code",
      "execution_count": null,
      "metadata": {
        "colab": {
          "base_uri": "https://localhost:8080/"
        },
        "id": "8Vuq630hu6Bo",
        "outputId": "c51608cd-e369-4e60-8814-620bcd89ce08"
      },
      "outputs": [],
      "source": [
        "!mkdir /content/rasa_project\n",
        "%cd /content/rasa_project\n",
        "!rasa init --no-prompt"
      ]
    },
    {
      "cell_type": "code",
      "execution_count": null,
      "metadata": {
        "id": "3sP71OaXu-N4"
      },
      "outputs": [],
      "source": [
        "nlu_data = \"\"\"\n",
        "version: \"2.0\"\n",
        "nlu:\n",
        "- intent: get_recommendation\n",
        "  examples: |\n",
        "    - Can you recommend a movie similar to [Toy Story](movie_title)?\n",
        "    - Suggest some movies like [The Matrix](movie_title).\n",
        "    - Recommend a movie like [Inception](movie_title).\n",
        "    - I loved [Titanic](movie_title), what should I watch next?\n",
        "    - What's a good movie like [Avatar](movie_title)?\n",
        "    - Give me some recommendations similar to [Shrek](movie_title).\n",
        "    - If I enjoyed [Finding Nemo](movie_title), what else might I like?\n",
        "    - What are some movies similar to [Jurassic Park](movie_title)?\n",
        "    - Can you suggest movies like [The Lion King](movie_title)?\n",
        "    - Recommend me films similar to [The Dark Knight](movie_title).\n",
        "\n",
        "- intent: search_by_genre\n",
        "  examples: |\n",
        "    - Show me some [action](genre) movies.\n",
        "    - I want to watch a [comedy](genre) movie.\n",
        "    - Do you have any recommendations for [drama](genre) movies?\n",
        "    - Can you suggest any good [horror](genre) movies?\n",
        "    - I'm in the mood for a [romantic](genre) film.\n",
        "    - Recommend some [sci-fi](genre) movies.\n",
        "    - What are some popular [thriller](genre) movies?\n",
        "    - Show me some great [animated](genre) films.\n",
        "    - I'd like to watch a [documentary](genre).\n",
        "    - Suggest some good [fantasy](genre) movies.\n",
        "\n",
        "- intent: get_movie_details\n",
        "  examples: |\n",
        "    - Tell me about the movie [Inception](movie_title).\n",
        "    - I want information about [Gladiator](movie_title).\n",
        "    - Details about [The Godfather](movie_title), please.\n",
        "    - Can you give me the plot of [The Matrix](movie_title)?\n",
        "    - What is [Pulp Fiction](movie_title) about?\n",
        "    - Provide details on [The Shawshank Redemption](movie_title).\n",
        "    - I'd like to know more about [Forrest Gump](movie_title).\n",
        "    - What's the storyline of [Fight Club](movie_title)?\n",
        "    - Tell me the details of [The Lord of the Rings](movie_title).\n",
        "    - Can you summarize [The Avengers](movie_title)?\n",
        "\n",
        "- intent: greet\n",
        "  examples: |\n",
        "    - Hi\n",
        "    - Hello\n",
        "    - Hey\n",
        "    - Good morning\n",
        "    - Good afternoon\n",
        "    - Good evening\n",
        "    - Hi there\n",
        "    - Hey there\n",
        "    - Hello!\n",
        "\n",
        "- intent: goodbye\n",
        "  examples: |\n",
        "    - Bye\n",
        "    - Goodbye\n",
        "    - See you later\n",
        "    - Take care\n",
        "    - Bye-bye\n",
        "    - Catch you later\n",
        "    - See you\n",
        "    - Have a good day\n",
        "    - Farewell\n",
        "    - See you soon\n",
        "\"\"\"\n",
        "\n",
        "with open(\"/content/rasa_project/data/nlu.yml\", \"w\") as file:\n",
        "    file.write(nlu_data)\n"
      ]
    },
    {
      "cell_type": "code",
      "execution_count": null,
      "metadata": {
        "colab": {
          "base_uri": "https://localhost:8080/"
        },
        "id": "kO-VVgsuu_kg",
        "outputId": "1376f5af-f872-42f6-a149-b198ab1b889b"
      },
      "outputs": [],
      "source": [
        "!rasa train"
      ]
    },
    {
      "cell_type": "markdown",
      "metadata": {
        "id": "PDlEIjSvvotY"
      },
      "source": [
        "Run the following commands on local end."
      ]
    },
    {
      "cell_type": "code",
      "execution_count": null,
      "metadata": {
        "colab": {
          "base_uri": "https://localhost:8080/"
        },
        "id": "MIm0t8nbvA6o",
        "outputId": "56de55a8-2ea9-4d6a-cce9-50d1824836f8"
      },
      "outputs": [],
      "source": [
        "# Run Rasa server in the background\n",
        "!rasa run --enable-api --cors \"*\" --port 5005 &\n"
      ]
    }
  ],
  "metadata": {
    "colab": {
      "provenance": []
    },
    "kernelspec": {
      "display_name": "Python 3",
      "name": "python3"
    },
    "language_info": {
      "name": "python"
    }
  },
  "nbformat": 4,
  "nbformat_minor": 0
}
